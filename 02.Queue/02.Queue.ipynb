{
 "cells": [
  {
   "cell_type": "markdown",
   "metadata": {},
   "source": [
    "# QUEUE DATA STRUCTURE"
   ]
  },
  {
   "cell_type": "code",
   "execution_count": 17,
   "metadata": {},
   "outputs": [],
   "source": [
    "class Queue:\n",
    "          def __init__(self):\n",
    "                    self.queue = []\n",
    "          \n",
    "          # add an element \n",
    "          def enqueue(self,item):\n",
    "                    self.queue.append(item)\n",
    "          \n",
    "          # remove an element\n",
    "          def dequeue(self):\n",
    "                    if len(self.queue)<1:\n",
    "                              return None\n",
    "                    else:\n",
    "                              return self.queue.pop(0)\n",
    "          # display the queue\n",
    "          def display(self):\n",
    "                    print(self.queue)\n",
    "\n",
    "          def size(self):\n",
    "                    return len(self.queue)\n",
    "          "
   ]
  },
  {
   "cell_type": "code",
   "execution_count": 18,
   "metadata": {},
   "outputs": [],
   "source": [
    "q = Queue()\n",
    "\n",
    "# add item in queue\n",
    "q.enqueue(1)\n",
    "q.enqueue(2)\n",
    "q.enqueue(3)\n",
    "q.enqueue(4)\n",
    "q.enqueue(5)"
   ]
  },
  {
   "cell_type": "code",
   "execution_count": 19,
   "metadata": {},
   "outputs": [
    {
     "name": "stdout",
     "output_type": "stream",
     "text": [
      "[1, 2, 3, 4, 5]\n"
     ]
    }
   ],
   "source": [
    "q.display()"
   ]
  },
  {
   "cell_type": "code",
   "execution_count": 20,
   "metadata": {},
   "outputs": [
    {
     "data": {
      "text/plain": [
       "1"
      ]
     },
     "execution_count": 20,
     "metadata": {},
     "output_type": "execute_result"
    }
   ],
   "source": [
    "q.dequeue()"
   ]
  },
  {
   "cell_type": "code",
   "execution_count": 23,
   "metadata": {},
   "outputs": [
    {
     "name": "stdout",
     "output_type": "stream",
     "text": [
      "after removing an element:\n",
      "[2, 3, 4, 5]\n"
     ]
    }
   ],
   "source": [
    "print(\"after removing an element:\")\n",
    "q.display()"
   ]
  },
  {
   "cell_type": "code",
   "execution_count": null,
   "metadata": {},
   "outputs": [
    {
     "ename": "",
     "evalue": "",
     "output_type": "error",
     "traceback": [
      "\u001b[1;31mThe kernel failed to start as 'Empty' could not be imported from 'd:\\OneDrive - Dawood University of Engineering Technology\\5th Semester (BSAI'.\n",
      "\u001b[1;31mClick <a href='https://aka.ms/kernelFailuresModuleImportErrFromFile'>here</a> for more info."
     ]
    }
   ],
   "source": [
    "from stack import Stack\n",
    "l = [\n",
    "          [0,0,1,1],\n",
    "          [0,0,1,0],\n",
    "          [0,0,0,0],\n",
    "          [0,0,1,0]\n",
    "]\n",
    "\n",
    "def find_the_celeb(l):\n",
    "          s = Stack()\n",
    "\n",
    "          for i in range(len(l)):\n",
    "                    s.push(i)\n",
    "\n",
    "          while s.size() >= 2:\n",
    "                    i = s.pop()\n",
    "                    j = s.pop()\n",
    "\n",
    "          if l[i][j] == 0:\n",
    "                    # j is not a celeb\n",
    "                    s.push(i)\n",
    "          else:\n",
    "                    # i is not a celeb\n",
    "                    s.push(j)\n",
    "\n",
    "          celeb = s.pop()\n",
    "\n",
    "          for i in range(len(l)):\n",
    "                    if i != celeb:\n",
    "                              if l[i][celeb] == 0 or l[celeb][i] == 1:\n",
    "                                        print('No one is a celebrity')\n",
    "                                        return \n",
    "          print('the celebrity is:',celeb)\n",
    "\n",
    "          \n",
    "find_the_celeb(l)"
   ]
  },
  {
   "cell_type": "code",
   "execution_count": null,
   "metadata": {},
   "outputs": [],
   "source": []
  }
 ],
 "metadata": {
  "kernelspec": {
   "display_name": "Python 3",
   "language": "python",
   "name": "python3"
  },
  "language_info": {
   "codemirror_mode": {
    "name": "ipython",
    "version": 3
   },
   "file_extension": ".py",
   "mimetype": "text/x-python",
   "name": "python",
   "nbconvert_exporter": "python",
   "pygments_lexer": "ipython3",
   "version": "3.11.2"
  }
 },
 "nbformat": 4,
 "nbformat_minor": 2
}
