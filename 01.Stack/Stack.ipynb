{
 "cells": [
  {
   "cell_type": "markdown",
   "id": "3c1feb2e",
   "metadata": {},
   "source": [
    "# STACK "
   ]
  },
  {
   "cell_type": "markdown",
   "id": "6b638b30",
   "metadata": {},
   "source": [
    "# Implement Stack (basic method)"
   ]
  },
  {
   "cell_type": "code",
   "execution_count": 1,
   "id": "dc640223-273f-4a13-9dc0-dc79835178b8",
   "metadata": {},
   "outputs": [
    {
     "name": "stdout",
     "output_type": "stream",
     "text": [
      "push operation\n",
      "stack: [1, 2, 3]\n",
      "\n",
      "pop operation:\n",
      "stack [1, 2]\n"
     ]
    }
   ],
   "source": [
    "stack = []\n",
    "\n",
    "print('push operation')\n",
    "stack.append(1)\n",
    "stack.append(2)\n",
    "stack.append(3)\n",
    "print('stack:',stack)\n",
    "\n",
    "print('\\npop operation:')\n",
    "stack.pop()\n",
    "print('stack',stack)\n"
   ]
  },
  {
   "cell_type": "markdown",
   "id": "dd3952c4",
   "metadata": {},
   "source": [
    "# Implement Stack using Functions"
   ]
  },
  {
   "cell_type": "code",
   "execution_count": 2,
   "id": "b18b1f8f",
   "metadata": {},
   "outputs": [
    {
     "name": "stdout",
     "output_type": "stream",
     "text": [
      "True\n",
      "pushed item: 10\n",
      "pushed item: 20\n",
      "pushed item: 30\n",
      "pushed item: 40\n",
      "popped item: 40\n",
      "stack after popping an element: [10, 20, 30]\n"
     ]
    }
   ],
   "source": [
    "# creating a stack\n",
    "def create_stack():\n",
    "          stack = []\n",
    "          return stack\n",
    "\n",
    "# creating an function to check stack is empty or not:\n",
    "def check_empty(stack):\n",
    "          return len(stack) == 0\n",
    "\n",
    "# adding an items into the stack:\n",
    "def push(stack,item):\n",
    "          stack.append(item)\n",
    "          print('pushed item:',item)\n",
    "\n",
    "# removing an element from the stack:\n",
    "def pop(stack):\n",
    "          if(check_empty(stack)):\n",
    "                    return 'stack is empty'\n",
    "          else:\n",
    "                   return stack.pop()\n",
    "\n",
    "stack = create_stack()\n",
    "print(check_empty(stack))\n",
    "push(stack,10)\n",
    "push(stack,20)\n",
    "push(stack,30)\n",
    "push(stack,40)\n",
    "print('popped item:',pop(stack))\n",
    "print('stack after popping an element:',stack)\n"
   ]
  },
  {
   "cell_type": "markdown",
   "id": "8c1afe54",
   "metadata": {},
   "source": [
    "# Implement Stack by using OOP"
   ]
  },
  {
   "cell_type": "code",
   "execution_count": 3,
   "id": "7131e8c0",
   "metadata": {},
   "outputs": [
    {
     "name": "stdout",
     "output_type": "stream",
     "text": [
      "check stack is empty: True\n",
      "first check items in Stack []\n",
      "peek from empty stack\n",
      "\n",
      "adding items in Stack\n",
      "[1, 2, 3, 4, 5]\n",
      "\n",
      "check stack is empty: False\n",
      "\n",
      "Popping item.....\n",
      "check stack after popping [1, 2, 3, 4]\n",
      "\n",
      "size of stack is 4\n",
      "4\n"
     ]
    }
   ],
   "source": [
    "class Stack:\n",
    "    def __init__(self):\n",
    "        self.items = []\n",
    "\n",
    "    def is_empty(self):\n",
    "        return len(self.items) == 0\n",
    "\n",
    "    def push(self, item):\n",
    "        self.items.append(item)\n",
    "\n",
    "    def pop(self):\n",
    "        if not self.is_empty():\n",
    "            return self.items.pop()\n",
    "        raise IndexError(\"pop from empty stack\")\n",
    "\n",
    "    def peek(self):\n",
    "        if not self.is_empty():\n",
    "            return self.items[-1]\n",
    "        raise IndexError(\"peek from empty stack\")\n",
    "\n",
    "    def size(self):\n",
    "      return len(self.items)\n",
    "\n",
    "# Example Usage\n",
    "s = Stack()\n",
    "print('check stack is empty:',s.is_empty())\n",
    "print('first check items in Stack',s.items)\n",
    "try:\n",
    "    print(s.peek())\n",
    "except IndexError as e:\n",
    "    print(e)  \n",
    "\n",
    "print(\"\\nadding items in Stack\")\n",
    "s.push(1)\n",
    "s.push(2)\n",
    "s.push(3)\n",
    "s.push(4)\n",
    "s.push(5)\n",
    "print(s.items) \n",
    "print('\\ncheck stack is empty:',s.is_empty())\n",
    "\n",
    "print(\"\\nPopping item.....\")\n",
    "s.pop()\n",
    "\n",
    "print('check stack after popping',s.items) \n",
    "print('\\nsize of stack is',s.size())\n",
    "\n",
    "print(s.peek())"
   ]
  },
  {
   "cell_type": "markdown",
   "id": "c836182a",
   "metadata": {},
   "source": [
    "# Stack using Linked list"
   ]
  },
  {
   "cell_type": "code",
   "execution_count": 4,
   "id": "8b0d8136",
   "metadata": {},
   "outputs": [],
   "source": [
    "class Node:\n",
    "          def __init__(self,value):\n",
    "                    self.data = value\n",
    "                    self.next = None"
   ]
  },
  {
   "cell_type": "code",
   "execution_count": 5,
   "id": "b6d7a0a4",
   "metadata": {},
   "outputs": [],
   "source": [
    "class Stack:\n",
    "          def __init__(self):\n",
    "                    self.top = None\n",
    "          \n",
    "          def isempty(self):\n",
    "                    return self.top == None\n",
    "\n",
    "          def push(self,value):\n",
    "                    new_node = Node(value)\n",
    "                    new_node.next = self.top\n",
    "                    self.top = new_node\n",
    "\n",
    "          def traverse(self):\n",
    "                    temp = self.top\n",
    "                    while temp != None:\n",
    "                              print(temp.data)\n",
    "                              temp = temp.next\n",
    "\n",
    "          def peek(self):\n",
    "                    if(self.isempty()):\n",
    "                              return 'stack is empty'\n",
    "                    else:\n",
    "                              return self.top.data\n",
    "\n",
    "          def pop(self):\n",
    "                    if(self.isempty()):\n",
    "                              return 'stack is empty'\n",
    "                    else:\n",
    "                              data = self.top.data\n",
    "                              self.top = self.top.next\n",
    "                              return data"
   ]
  },
  {
   "cell_type": "code",
   "execution_count": 6,
   "id": "19bac9d5",
   "metadata": {},
   "outputs": [],
   "source": [
    "s = Stack()"
   ]
  },
  {
   "cell_type": "code",
   "execution_count": 7,
   "id": "f506eceb",
   "metadata": {},
   "outputs": [
    {
     "data": {
      "text/plain": [
       "True"
      ]
     },
     "execution_count": 7,
     "metadata": {},
     "output_type": "execute_result"
    }
   ],
   "source": [
    "s.isempty()"
   ]
  },
  {
   "cell_type": "code",
   "execution_count": 8,
   "id": "576ae3ba",
   "metadata": {},
   "outputs": [],
   "source": [
    "s.push(1)"
   ]
  },
  {
   "cell_type": "code",
   "execution_count": 9,
   "id": "75f2694b",
   "metadata": {},
   "outputs": [
    {
     "data": {
      "text/plain": [
       "False"
      ]
     },
     "execution_count": 9,
     "metadata": {},
     "output_type": "execute_result"
    }
   ],
   "source": [
    "s.isempty()"
   ]
  },
  {
   "cell_type": "code",
   "execution_count": 10,
   "id": "05f93025",
   "metadata": {},
   "outputs": [],
   "source": [
    "s.push(2)\n",
    "s.push(3)\n",
    "s.push(4)\n",
    "s.push(5)\n"
   ]
  },
  {
   "cell_type": "code",
   "execution_count": 11,
   "id": "e85168f1",
   "metadata": {},
   "outputs": [
    {
     "name": "stdout",
     "output_type": "stream",
     "text": [
      "5\n",
      "4\n",
      "3\n",
      "2\n",
      "1\n"
     ]
    }
   ],
   "source": [
    "s.traverse()"
   ]
  },
  {
   "cell_type": "code",
   "execution_count": 12,
   "id": "7bec936a",
   "metadata": {},
   "outputs": [
    {
     "data": {
      "text/plain": [
       "5"
      ]
     },
     "execution_count": 12,
     "metadata": {},
     "output_type": "execute_result"
    }
   ],
   "source": [
    "s.peek()"
   ]
  },
  {
   "cell_type": "code",
   "execution_count": 13,
   "id": "bed3c663",
   "metadata": {},
   "outputs": [
    {
     "data": {
      "text/plain": [
       "5"
      ]
     },
     "execution_count": 13,
     "metadata": {},
     "output_type": "execute_result"
    }
   ],
   "source": [
    "s.pop()"
   ]
  },
  {
   "cell_type": "code",
   "execution_count": 14,
   "id": "bd2064a6",
   "metadata": {},
   "outputs": [
    {
     "name": "stdout",
     "output_type": "stream",
     "text": [
      "4\n",
      "3\n",
      "2\n",
      "1\n"
     ]
    }
   ],
   "source": [
    "s.traverse()"
   ]
  }
 ],
 "metadata": {
  "kernelspec": {
   "display_name": "Python 3",
   "language": "python",
   "name": "python3"
  },
  "language_info": {
   "codemirror_mode": {
    "name": "ipython",
    "version": 3
   },
   "file_extension": ".py",
   "mimetype": "text/x-python",
   "name": "python",
   "nbconvert_exporter": "python",
   "pygments_lexer": "ipython3",
   "version": "3.11.2"
  }
 },
 "nbformat": 4,
 "nbformat_minor": 5
}
