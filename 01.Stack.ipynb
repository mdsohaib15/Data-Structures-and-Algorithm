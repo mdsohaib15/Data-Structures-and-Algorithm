{
 "cells": [
  {
   "cell_type": "markdown",
   "id": "3c1feb2e",
   "metadata": {},
   "source": [
    "# STACK "
   ]
  },
  {
   "cell_type": "code",
   "execution_count": 1,
   "id": "dc640223-273f-4a13-9dc0-dc79835178b8",
   "metadata": {},
   "outputs": [
    {
     "name": "stdout",
     "output_type": "stream",
     "text": [
      "push operation\n",
      "stack: [1, 2, 3]\n",
      "\n",
      "pop operation:\n",
      "stack [1, 2]\n"
     ]
    }
   ],
   "source": [
    "stack = []\n",
    "\n",
    "print('push operation')\n",
    "stack.append(1)\n",
    "stack.append(2)\n",
    "stack.append(3)\n",
    "print('stack:',stack)\n",
    "\n",
    "print('\\npop operation:')\n",
    "stack.pop()\n",
    "print('stack',stack)\n"
   ]
  },
  {
   "cell_type": "code",
   "execution_count": null,
   "id": "8b0d8136",
   "metadata": {},
   "outputs": [],
   "source": []
  }
 ],
 "metadata": {
  "kernelspec": {
   "display_name": "Python 3",
   "language": "python",
   "name": "python3"
  },
  "language_info": {
   "codemirror_mode": {
    "name": "ipython",
    "version": 3
   },
   "file_extension": ".py",
   "mimetype": "text/x-python",
   "name": "python",
   "nbconvert_exporter": "python",
   "pygments_lexer": "ipython3",
   "version": "3.11.2"
  }
 },
 "nbformat": 4,
 "nbformat_minor": 5
}
