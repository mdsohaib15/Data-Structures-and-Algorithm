{
 "cells": [
  {
   "cell_type": "markdown",
   "id": "3c1feb2e",
   "metadata": {},
   "source": [
    "# STACK "
   ]
  },
  {
   "cell_type": "code",
   "execution_count": 1,
   "id": "dc640223-273f-4a13-9dc0-dc79835178b8",
   "metadata": {},
   "outputs": [
    {
     "name": "stdout",
     "output_type": "stream",
     "text": [
      "push operation\n",
      "stack: [1, 2, 3]\n",
      "\n",
      "pop operation:\n",
      "stack [1, 2]\n"
     ]
    }
   ],
   "source": [
    "stack = []\n",
    "\n",
    "print('push operation')\n",
    "stack.append(1)\n",
    "stack.append(2)\n",
    "stack.append(3)\n",
    "print('stack:',stack)\n",
    "\n",
    "print('\\npop operation:')\n",
    "stack.pop()\n",
    "print('stack',stack)\n"
   ]
  },
  {
   "cell_type": "markdown",
   "id": "c836182a",
   "metadata": {},
   "source": [
    "# Stack using Linked list"
   ]
  },
  {
   "cell_type": "code",
   "execution_count": 43,
   "id": "8b0d8136",
   "metadata": {},
   "outputs": [],
   "source": [
    "class Node:\n",
    "          def __init__(self,value):\n",
    "                    self.data = value\n",
    "                    self.next = None"
   ]
  },
  {
   "cell_type": "code",
   "execution_count": 53,
   "id": "b6d7a0a4",
   "metadata": {},
   "outputs": [],
   "source": [
    "class Stack:\n",
    "          def __init__(self):\n",
    "                    self.top = None\n",
    "          \n",
    "          def isempty(self):\n",
    "                    return self.top == None\n",
    "\n",
    "          def push(self,value):\n",
    "                    new_node =  Node(value)\n",
    "                    new_node.next = self.top\n",
    "                    self.top = new_node\n",
    "\n",
    "          def traverse(self):\n",
    "                    temp = self.top\n",
    "                    while temp != None:\n",
    "                              print(temp.data)\n",
    "                              temp = temp.next\n",
    "\n",
    "          def peek(self):\n",
    "                    if(self.isempty()):\n",
    "                              return 'stack is empty'\n",
    "                    else:\n",
    "                              return self.top.data\n",
    "\n",
    "          def pop(self):\n",
    "                    if(self.isempty()):\n",
    "                              return 'stack is empty'\n",
    "                    else:\n",
    "                              self.top = self.top.next"
   ]
  },
  {
   "cell_type": "code",
   "execution_count": 54,
   "id": "19bac9d5",
   "metadata": {},
   "outputs": [],
   "source": [
    "s = Stack()"
   ]
  },
  {
   "cell_type": "code",
   "execution_count": 55,
   "id": "f506eceb",
   "metadata": {},
   "outputs": [
    {
     "data": {
      "text/plain": [
       "True"
      ]
     },
     "execution_count": 55,
     "metadata": {},
     "output_type": "execute_result"
    }
   ],
   "source": [
    "s.isempty()"
   ]
  },
  {
   "cell_type": "code",
   "execution_count": 56,
   "id": "576ae3ba",
   "metadata": {},
   "outputs": [],
   "source": [
    "s.push(1)"
   ]
  },
  {
   "cell_type": "code",
   "execution_count": 57,
   "id": "75f2694b",
   "metadata": {},
   "outputs": [
    {
     "data": {
      "text/plain": [
       "False"
      ]
     },
     "execution_count": 57,
     "metadata": {},
     "output_type": "execute_result"
    }
   ],
   "source": [
    "s.isempty()"
   ]
  },
  {
   "cell_type": "code",
   "execution_count": 58,
   "id": "05f93025",
   "metadata": {},
   "outputs": [],
   "source": [
    "s.push(2)\n",
    "s.push(3)\n",
    "s.push(4)\n",
    "s.push(5)\n"
   ]
  },
  {
   "cell_type": "code",
   "execution_count": 59,
   "id": "e85168f1",
   "metadata": {},
   "outputs": [
    {
     "name": "stdout",
     "output_type": "stream",
     "text": [
      "5\n",
      "4\n",
      "3\n",
      "2\n",
      "1\n"
     ]
    }
   ],
   "source": [
    "s.traverse()"
   ]
  },
  {
   "cell_type": "code",
   "execution_count": 60,
   "id": "7bec936a",
   "metadata": {},
   "outputs": [
    {
     "data": {
      "text/plain": [
       "5"
      ]
     },
     "execution_count": 60,
     "metadata": {},
     "output_type": "execute_result"
    }
   ],
   "source": [
    "s.peek()"
   ]
  },
  {
   "cell_type": "code",
   "execution_count": 61,
   "id": "bed3c663",
   "metadata": {},
   "outputs": [],
   "source": [
    "s.pop()"
   ]
  },
  {
   "cell_type": "code",
   "execution_count": 62,
   "id": "bd2064a6",
   "metadata": {},
   "outputs": [
    {
     "name": "stdout",
     "output_type": "stream",
     "text": [
      "4\n",
      "3\n",
      "2\n",
      "1\n"
     ]
    }
   ],
   "source": [
    "s.traverse()"
   ]
  },
  {
   "cell_type": "code",
   "execution_count": null,
   "id": "c1307359",
   "metadata": {},
   "outputs": [],
   "source": []
  }
 ],
 "metadata": {
  "kernelspec": {
   "display_name": "Python 3",
   "language": "python",
   "name": "python3"
  },
  "language_info": {
   "codemirror_mode": {
    "name": "ipython",
    "version": 3
   },
   "file_extension": ".py",
   "mimetype": "text/x-python",
   "name": "python",
   "nbconvert_exporter": "python",
   "pygments_lexer": "ipython3",
   "version": "3.11.2"
  }
 },
 "nbformat": 4,
 "nbformat_minor": 5
}
