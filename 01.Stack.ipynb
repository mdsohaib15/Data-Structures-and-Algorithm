{
 "cells": [
  {
   "cell_type": "code",
   "execution_count": null,
   "id": "67ba9efe-c782-4fa2-a82c-25757dac016f",
   "metadata": {},
   "outputs": [
    {
     "name": "stdout",
     "output_type": "stream",
     "text": [
      "21\n"
     ]
    }
   ],
   "source": []
  },
  {
   "cell_type": "markdown",
   "id": "3c1feb2e",
   "metadata": {},
   "source": [
    "# STACK "
   ]
  },
  {
   "cell_type": "code",
   "execution_count": null,
   "id": "dc640223-273f-4a13-9dc0-dc79835178b8",
   "metadata": {},
   "outputs": [],
   "source": []
  }
 ],
 "metadata": {
  "kernelspec": {
   "display_name": "Python 3 (ipykernel)",
   "language": "python",
   "name": "python3"
  },
  "language_info": {
   "codemirror_mode": {
    "name": "ipython",
    "version": 3
   },
   "file_extension": ".py",
   "mimetype": "text/x-python",
   "name": "python",
   "nbconvert_exporter": "python",
   "pygments_lexer": "ipython3",
   "version": "3.12.4"
  }
 },
 "nbformat": 4,
 "nbformat_minor": 5
}
