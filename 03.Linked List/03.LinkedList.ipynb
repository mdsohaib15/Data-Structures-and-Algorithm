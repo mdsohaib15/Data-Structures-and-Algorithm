{
 "cells": [
  {
   "cell_type": "markdown",
   "metadata": {},
   "source": [
    "# LINKEDLIST"
   ]
  },
  {
   "cell_type": "code",
   "execution_count": 1,
   "metadata": {},
   "outputs": [
    {
     "name": "stdout",
     "output_type": "stream",
     "text": [
      "10\n",
      "30\n",
      "20\n",
      "40\n"
     ]
    },
    {
     "name": "stderr",
     "output_type": "stream",
     "text": [
      "<>:21: SyntaxWarning: \"is\" with a literal. Did you mean \"==\"?\n",
      "<>:21: SyntaxWarning: \"is\" with a literal. Did you mean \"==\"?\n",
      "C:\\Users\\FAST COMPUTER 1999\\AppData\\Local\\Temp\\ipykernel_15540\\3084782227.py:21: SyntaxWarning: \"is\" with a literal. Did you mean \"==\"?\n",
      "  if position is 0:\n"
     ]
    }
   ],
   "source": [
    "# Linked List - Python\n",
    "class Node:\n",
    "    def __init__(self,data):\n",
    "        self.data = data\n",
    "        self.next = None\n",
    "\n",
    "class LinkedList:\n",
    "    def __init__(self):\n",
    "        self.head = None\n",
    "    \n",
    "    def insertHead(self,newNode):\n",
    "        temporaryNode = self.head\n",
    "        self.head = newNode\n",
    "        self.head.next = temporaryNode\n",
    "        del temporaryNode\n",
    "    \n",
    "    def insertAt(self,newNode,position):\n",
    "        if position < 0 or position > self.listLength():\n",
    "            print(\"Invalid Position\")\n",
    "            return\n",
    "        if position is 0:\n",
    "            self.insertHead(newNode)\n",
    "            return\n",
    "        currentNode = self.head\n",
    "        currentPosition = 0    \n",
    "        while True:\n",
    "            if currentPosition == position:\n",
    "                previousNode.next = newNode\n",
    "                newNode.next = currentNode\n",
    "                break\n",
    "            previousNode = currentNode\n",
    "            currentNode = currentNode.next\n",
    "            currentPosition += 1\n",
    "        \n",
    "    def insertEnd(self,newNode):\n",
    "        if self.head is None:\n",
    "            self.head = newNode\n",
    "        else:\n",
    "            lastNode = self.head\n",
    "            while True:\n",
    "                if lastNode.next is None:\n",
    "                    break\n",
    "                lastNode = lastNode.next\n",
    "            lastNode.next = newNode\n",
    "    \n",
    "    def listLength(self):\n",
    "        currentNode = self.head\n",
    "        length = 0\n",
    "        while currentNode is not None:\n",
    "            length += 1\n",
    "            currentNode = currentNode.next\n",
    "        return length\n",
    "    \n",
    "    def printList(self):\n",
    "        if self.head is None:\n",
    "            print(\"List is empty\")\n",
    "            return\n",
    "        currentNode = self.head\n",
    "        while True:\n",
    "            if currentNode is None:\n",
    "                break\n",
    "            print(currentNode.data)\n",
    "            currentNode = currentNode.next\n",
    "\n",
    "firstNode = Node(10)\n",
    "secondNode = Node(20)\n",
    "thirdNode = Node(30)\n",
    "fourthNode = Node(40)\n",
    "\n",
    "\n",
    "linkedList =LinkedList()\n",
    "\n",
    "linkedList.insertEnd(firstNode)\n",
    "linkedList.insertEnd(secondNode)\n",
    "linkedList.insertAt(thirdNode,1)\n",
    "linkedList.insertAt(fourthNode,3)\n",
    "\n",
    "linkedList.printList()"
   ]
  }
 ],
 "metadata": {
  "kernelspec": {
   "display_name": "Python 3",
   "language": "python",
   "name": "python3"
  },
  "language_info": {
   "codemirror_mode": {
    "name": "ipython",
    "version": 3
   },
   "file_extension": ".py",
   "mimetype": "text/x-python",
   "name": "python",
   "nbconvert_exporter": "python",
   "pygments_lexer": "ipython3",
   "version": "3.11.2"
  }
 },
 "nbformat": 4,
 "nbformat_minor": 2
}
